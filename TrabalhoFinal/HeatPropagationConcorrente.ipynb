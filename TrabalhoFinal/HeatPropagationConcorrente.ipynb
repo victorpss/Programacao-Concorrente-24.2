{
  "cells": [
    {
      "cell_type": "markdown",
      "metadata": {
        "id": "nzq9v5weN9Xi"
      },
      "source": [
        "#Código original"
      ]
    },
    {
      "cell_type": "code",
      "execution_count": null,
      "metadata": {
        "id": "6LsYjI-9NdlN"
      },
      "outputs": [],
      "source": [
        "# coeficientes de difusividade térmica\n",
        "\n",
        "carbono_pirolitico = 1220 # similar ao grafite\n",
        "diamante = 1100\n",
        "carbono = 216.5 # 25°C\n",
        "helio = 190 # 300 K, 1 atm\n",
        "prata = 165.63  # puro (99.9%)\n",
        "hidrogenio = 160 # 300 K, 1 atm\n",
        "ouro = 127\n",
        "cobre = 111 # 25°C\n",
        "aluminio = 97\n",
        "vapor_agua = 23.38\n",
        "ferro = 23\n",
        "ar = 19\n",
        "tijolo = 0.52\n",
        "vidro = 0.34\n",
        "agua = 0.143 # 25°C\n",
        "borracha = 0.1\n",
        "nylon = 0.09\n",
        "madeira = 0.082"
      ]
    },
    {
      "cell_type": "code",
      "execution_count": null,
      "metadata": {
        "id": "RCsqSemgNssx"
      },
      "outputs": [],
      "source": [
        "import numpy as np\n",
        "import matplotlib.pyplot as plt\n",
        "import matplotlib.animation as animation\n",
        "from matplotlib.animation import FuncAnimation\n",
        "\n",
        "linhas = 50\n",
        "colunas = 50\n",
        "iteracoes = 602\n",
        "\n",
        "\n",
        "def init():\n",
        "    # criando a matriz\n",
        "    u = np.empty((iteracoes, linhas, colunas)) #u[tempo][x][y]\n",
        "\n",
        "    u_inicial = 25 # 25°C - temperatura ambiente\n",
        "\n",
        "    # inicializando a matriz na condição inicial\n",
        "    u.fill(u_inicial)\n",
        "\n",
        "    u_baixo = 100.0\n",
        "    u_esq = 50.0\n",
        "    u_cima = 0.0\n",
        "    u_dir = 0.0\n",
        "\n",
        "    # inicializando as condições das bordas (o : na primeira dimensao significa que está tendo incidencia contínua nesses pontos da superficie)\n",
        "    u[:, :, :1] = u_esq\n",
        "    u[:, (linhas-1):, :] = u_baixo\n",
        "\n",
        "    return u\n",
        "\n",
        "def calcular(u, coeficiente):\n",
        "    alpha = coeficiente\n",
        "    delta_x = 1\n",
        "\n",
        "    delta_t = ((delta_x-0.05) ** 2)/(4 * (alpha+0.05)) # pequeno ruído no alfa e no delta x para evitar que eles sejam cancelados na hora de calcular o gamma\n",
        "    gamma = (alpha * delta_t) / (delta_x ** 2)\n",
        "\n",
        "    for k in range(0, iteracoes-1, 1):\n",
        "        for i in range(1, linhas-1, delta_x):\n",
        "            for j in range(1, colunas-1, delta_x):\n",
        "                u[k + 1, i, j] = gamma * (u[k][i+1][j] + u[k][i-1][j] + u[k][i][j+1] + u[k][i][j-1] - 4*(u[k][i][j])) + u[k][i][j]\n",
        "\n",
        "    return u\n",
        "\n",
        "def run(pontos, iteracoes):\n",
        "    for k in range(0, iteracoes, 100):\n",
        "        frame = pontos[k] # pegando todos os pontos em um determinado tempo k\n",
        "        fig, ax = plt.subplots()\n",
        "        ax.clear()\n",
        "        ax.set_title(f\"Temperatura na unidade de tempo k = {k}\")\n",
        "        ax.set_xlabel(\"x\")\n",
        "        ax.set_ylabel(\"y\")\n",
        "        c = ax.imshow(frame, interpolation='bilinear', cmap=plt.cm.jet, vmin=0, vmax=100)\n",
        "        cbar = fig.colorbar(c)\n",
        "        cbar.set_label(\"Temperatura (°C)\")\n",
        "        plt.show()\n",
        "\n",
        "\n",
        "u = init()\n",
        "# cálculo das temperaturas em todos os pontos\n",
        "u = calcular(u, diamante)\n",
        "\n",
        "#run(u, iteracoes)"
      ]
    },
    {
      "cell_type": "markdown",
      "metadata": {
        "id": "ls6VPomdOBsg"
      },
      "source": [
        "#1º passo: Receber nº de iterações, largura e altura por parâmetro"
      ]
    },
    {
      "cell_type": "code",
      "execution_count": null,
      "metadata": {
        "id": "L-VxO840OBNk"
      },
      "outputs": [],
      "source": [
        "def init(iteracoes, linhas, colunas):\n",
        "    # criando a matriz\n",
        "    u = np.empty((iteracoes, linhas, colunas)) #u[tempo][x][y]\n",
        "\n",
        "    u_inicial = 25 # 25°C - temperatura ambiente\n",
        "\n",
        "    # inicializando a matriz na condição inicial\n",
        "    u.fill(u_inicial)\n",
        "\n",
        "    u_baixo = 100.0\n",
        "    u_esq = 50.0\n",
        "    u_cima = 0.0\n",
        "    u_dir = 0.0\n",
        "\n",
        "    # inicializando as condições das bordas (o : na primeira dimensao significa que está tendo incidencia contínua nesses pontos da superficie)\n",
        "    u[:, :, :1] = u_esq\n",
        "    u[:, (linhas-1):, :] = u_baixo\n",
        "\n",
        "    return u\n",
        "\n",
        "def calcular(u, coeficiente):\n",
        "    iteracoes, linhas, colunas = u.shape\n",
        "\n",
        "    alpha = coeficiente\n",
        "    delta_x = 1\n",
        "\n",
        "    delta_t = ((delta_x-0.05) ** 2)/(4 * (alpha+0.05)) # pequeno ruído no alfa e no delta x para evitar que eles sejam cancelados na hora de calcular o gamma\n",
        "    gamma = (alpha * delta_t) / (delta_x ** 2)\n",
        "\n",
        "    for k in range(0, iteracoes-1, 1):\n",
        "        for i in range(1, linhas-1, delta_x):\n",
        "            for j in range(1, colunas-1, delta_x):\n",
        "                u[k + 1, i, j] = gamma * (u[k][i+1][j] + u[k][i-1][j] + u[k][i][j+1] + u[k][i][j-1] - 4*(u[k][i][j])) + u[k][i][j]\n",
        "\n",
        "    return u"
      ]
    },
    {
      "cell_type": "markdown",
      "metadata": {
        "id": "-VKOU2QyNT7i"
      },
      "source": [
        "#2º passo: Calcular o tempo de execução"
      ]
    },
    {
      "cell_type": "code",
      "execution_count": null,
      "metadata": {
        "id": "O4FLLLp-UI9t"
      },
      "outputs": [],
      "source": [
        "import time\n",
        "import statistics"
      ]
    },
    {
      "cell_type": "code",
      "execution_count": null,
      "metadata": {
        "id": "Ahc_NglwG6Jl"
      },
      "outputs": [],
      "source": [
        "iteracoes = 602\n",
        "linhas = 50\n",
        "colunas = 50"
      ]
    },
    {
      "cell_type": "code",
      "execution_count": null,
      "metadata": {
        "id": "vpwoBJZLTbiM"
      },
      "outputs": [],
      "source": [
        "def generate_matrix_seq(iteracoes, linhas, colunas, coeficiente):\n",
        "  u = init(iteracoes, linhas, colunas)\n",
        "  times = []\n",
        "\n",
        "  for i in range(1, 11):\n",
        "      initial_time = time.time()\n",
        "      u = calcular(u, coeficiente)\n",
        "      end_time = time.time()\n",
        "\n",
        "      total_time = end_time - initial_time\n",
        "      times.append(total_time)\n",
        "\n",
        "      print(f\"Execution: {i}, Total time: {total_time:.4f} seconds\")\n",
        "\n",
        "  print(f\"\\nAverage execution time: {statistics.mean(times):.4f} seconds\")\n",
        "\n",
        "  return u"
      ]
    },
    {
      "cell_type": "code",
      "execution_count": null,
      "metadata": {
        "colab": {
          "base_uri": "https://localhost:8080/"
        },
        "id": "O-RLvpN0G8Z2",
        "outputId": "84c9bf78-a425-4576-b37d-c075aa215e63"
      },
      "outputs": [
        {
          "output_type": "stream",
          "name": "stdout",
          "text": [
            "Execution: 1, Total time: 4.5515 seconds\n",
            "Execution: 2, Total time: 4.6939 seconds\n",
            "Execution: 3, Total time: 5.6963 seconds\n",
            "Execution: 4, Total time: 4.4680 seconds\n",
            "Execution: 5, Total time: 5.6530 seconds\n",
            "Execution: 6, Total time: 4.8363 seconds\n",
            "Execution: 7, Total time: 4.4819 seconds\n",
            "Execution: 8, Total time: 5.7124 seconds\n",
            "Execution: 9, Total time: 4.4462 seconds\n",
            "Execution: 10, Total time: 5.6791 seconds\n",
            "\n",
            "Average execution time: 5.0219 seconds\n"
          ]
        }
      ],
      "source": [
        "u1 = generate_matrix_seq(iteracoes, linhas, colunas, diamante)"
      ]
    },
    {
      "cell_type": "markdown",
      "metadata": {
        "id": "wK0IDIQ1Ww9R"
      },
      "source": [
        "#3º passo: Aplicar a divisão da tarefa em ```calcular``` para n threads e implementar a barreira"
      ]
    },
    {
      "cell_type": "code",
      "execution_count": null,
      "metadata": {
        "id": "CkrZlVv-nmtI"
      },
      "outputs": [],
      "source": [
        "import threading"
      ]
    },
    {
      "cell_type": "code",
      "execution_count": null,
      "metadata": {
        "id": "VZLzqs0cHKWc"
      },
      "outputs": [],
      "source": [
        "k = 0 # variável global para indicar a iteração atual"
      ]
    },
    {
      "cell_type": "code",
      "execution_count": null,
      "metadata": {
        "id": "e0uiMYiWm6TH"
      },
      "outputs": [],
      "source": [
        "# função realizada por cada thread\n",
        "def medir(u, linhas, colunas, barreira, id, gamma): # id é o identificador da thread\n",
        "  global k\n",
        "\n",
        "  # faço essa subtração pois calculamos a matriz desconsiderando as primeiras e últimas linhas e colunas, pois consideramos incidência de calor direta nelas\n",
        "  linhas-=2\n",
        "  colunas-=2\n",
        "\n",
        "  while k<iteracoes-1:\n",
        "\n",
        "    for cont in range(id, linhas*colunas, num_threads):\n",
        "      i = cont // colunas\n",
        "      j = cont % colunas\n",
        "\n",
        "      i+=1\n",
        "      j+=1\n",
        "\n",
        "      u[k + 1, i, j] = gamma * (u[k][i+1][j] + u[k][i-1][j] + u[k][i][j+1] + u[k][i][j-1] - 4*(u[k][i][j])) + u[k][i][j]\n",
        "\n",
        "    barreira.wait() # espero todas as threads fazerem os cálculos"
      ]
    },
    {
      "cell_type": "code",
      "execution_count": null,
      "metadata": {
        "id": "9LRB7g1eJHwE"
      },
      "outputs": [],
      "source": [
        "def aumenta_k():\n",
        "  global k\n",
        "  k+=1"
      ]
    },
    {
      "cell_type": "code",
      "execution_count": null,
      "metadata": {
        "id": "HCevxXicA1ji"
      },
      "outputs": [],
      "source": [
        "def calcular_conc(u, coeficiente, num_threads):\n",
        "  global k\n",
        "\n",
        "  iteracoes, linhas, colunas = u.shape\n",
        "\n",
        "  alpha = coeficiente\n",
        "  delta_x = 1\n",
        "\n",
        "  delta_t = ((delta_x-0.05) ** 2)/(4 * (alpha+0.05)) # pequeno ruído no alfa e no delta x para evitar que eles sejam cancelados na hora de calcular o gamma\n",
        "  gamma = (alpha * delta_t) / (delta_x ** 2)\n",
        "\n",
        "  threads = []\n",
        "  barreira = threading.Barrier(num_threads, action=aumenta_k)\n",
        "  k = 0\n",
        "\n",
        "  for i in range(num_threads):\n",
        "    thread = threading.Thread(target=medir, args=(u, linhas, colunas, barreira, i, gamma))\n",
        "    threads.append(thread)\n",
        "    thread.start()\n",
        "\n",
        "  for thread in threads:\n",
        "    thread.join()\n",
        "\n",
        "  return u"
      ]
    },
    {
      "cell_type": "code",
      "execution_count": null,
      "metadata": {
        "id": "vQcAxhccXA9d"
      },
      "outputs": [],
      "source": [
        "def generate_matrix_conc(iteracoes, linhas, colunas, coeficiente, num_threads):\n",
        "  u = init(iteracoes, linhas, colunas)\n",
        "  times = []\n",
        "\n",
        "  for i in range(1, 11):\n",
        "    initial_time = time.time()\n",
        "    u = calcular_conc(u, coeficiente, num_threads)\n",
        "    end_time = time.time()\n",
        "\n",
        "    total_time = end_time - initial_time\n",
        "    times.append(total_time)\n",
        "\n",
        "    print(f\"Execution: {i}, Total time: {total_time:.4f} seconds\")\n",
        "\n",
        "  print(f\"\\nAverage execution time: {statistics.mean(times):.4f} seconds\")\n",
        "\n",
        "  return u"
      ]
    },
    {
      "cell_type": "markdown",
      "metadata": {
        "id": "N5ONr1fRpuBe"
      },
      "source": [
        "#4º passo: Teste de desempenho da solução concorrente com a mesma dimensão da solução sequencial e calcular norma de Frobenius"
      ]
    },
    {
      "cell_type": "markdown",
      "source": [
        "Iterações = 600\n",
        "\n",
        "Linhas = 100\n",
        "\n",
        "Colunas = 100"
      ],
      "metadata": {
        "id": "w6dGITVOY7Tk"
      }
    },
    {
      "cell_type": "code",
      "execution_count": null,
      "metadata": {
        "colab": {
          "base_uri": "https://localhost:8080/"
        },
        "id": "iqY3ZLPgtUHq",
        "outputId": "e801c8df-9551-4922-917f-a1a6bd115476"
      },
      "outputs": [
        {
          "output_type": "stream",
          "name": "stdout",
          "text": [
            "SEQUENCIAL\n",
            "\n",
            "Execution: 1, Total time: 22.6235 seconds\n",
            "Execution: 2, Total time: 22.3417 seconds\n",
            "Execution: 3, Total time: 20.0272 seconds\n",
            "Execution: 4, Total time: 21.2566 seconds\n",
            "Execution: 5, Total time: 21.9440 seconds\n",
            "Execution: 6, Total time: 21.5813 seconds\n",
            "Execution: 7, Total time: 21.3600 seconds\n",
            "Execution: 8, Total time: 20.9117 seconds\n",
            "Execution: 9, Total time: 19.9656 seconds\n",
            "Execution: 10, Total time: 21.0352 seconds\n",
            "\n",
            "Average execution time: 21.3047 seconds\n",
            "\n",
            "CONCORRENTE (1 threads)\n",
            "\n",
            "Execution: 1, Total time: 22.9358 seconds\n",
            "Execution: 2, Total time: 22.7388 seconds\n",
            "Execution: 3, Total time: 21.6163 seconds\n",
            "Execution: 4, Total time: 22.7848 seconds\n",
            "Execution: 5, Total time: 22.9458 seconds\n",
            "Execution: 6, Total time: 22.9212 seconds\n",
            "Execution: 7, Total time: 22.9034 seconds\n",
            "Execution: 8, Total time: 21.6387 seconds\n",
            "Execution: 9, Total time: 23.0769 seconds\n",
            "Execution: 10, Total time: 22.9557 seconds\n",
            "\n",
            "Average execution time: 22.6517 seconds\n",
            "\n",
            "CONCORRENTE (2 threads)\n",
            "\n",
            "Execution: 1, Total time: 23.1516 seconds\n",
            "Execution: 2, Total time: 23.1633 seconds\n",
            "Execution: 3, Total time: 22.5736 seconds\n",
            "Execution: 4, Total time: 22.0050 seconds\n",
            "Execution: 5, Total time: 23.0511 seconds\n",
            "Execution: 6, Total time: 23.0782 seconds\n",
            "Execution: 7, Total time: 23.0450 seconds\n",
            "Execution: 8, Total time: 23.0591 seconds\n",
            "Execution: 9, Total time: 21.8752 seconds\n",
            "Execution: 10, Total time: 22.9259 seconds\n",
            "\n",
            "Average execution time: 22.7928 seconds\n",
            "\n",
            "CONCORRENTE (4 threads)\n",
            "\n",
            "Execution: 1, Total time: 22.9713 seconds\n",
            "Execution: 2, Total time: 23.1495 seconds\n",
            "Execution: 3, Total time: 22.9862 seconds\n",
            "Execution: 4, Total time: 22.2761 seconds\n",
            "Execution: 5, Total time: 22.5186 seconds\n",
            "Execution: 6, Total time: 23.2007 seconds\n",
            "Execution: 7, Total time: 22.9408 seconds\n",
            "Execution: 8, Total time: 23.0761 seconds\n",
            "Execution: 9, Total time: 23.1816 seconds\n",
            "Execution: 10, Total time: 21.8138 seconds\n",
            "\n",
            "Average execution time: 22.8115 seconds\n",
            "\n",
            "CONCORRENTE (8 threads)\n",
            "\n",
            "Execution: 1, Total time: 22.9926 seconds\n",
            "Execution: 2, Total time: 23.2816 seconds\n",
            "Execution: 3, Total time: 23.1294 seconds\n",
            "Execution: 4, Total time: 23.0916 seconds\n",
            "Execution: 5, Total time: 23.4631 seconds\n",
            "Execution: 6, Total time: 22.2291 seconds\n",
            "Execution: 7, Total time: 23.1545 seconds\n",
            "Execution: 8, Total time: 23.4193 seconds\n",
            "Execution: 9, Total time: 23.3085 seconds\n",
            "Execution: 10, Total time: 23.1372 seconds\n",
            "\n",
            "Average execution time: 23.1207 seconds\n"
          ]
        }
      ],
      "source": [
        "iteracoes = 600\n",
        "linhas = 100\n",
        "colunas = 100\n",
        "all_threads = [1, 2, 4, 8]\n",
        "\n",
        "print(\"SEQUENCIAL\\n\")\n",
        "u1 = generate_matrix_seq(iteracoes, linhas, colunas, diamante)\n",
        "\n",
        "for num_threads in all_threads:\n",
        "    print(f\"\\nCONCORRENTE ({num_threads} threads)\\n\")\n",
        "    u2 = generate_matrix_conc(iteracoes, linhas, colunas, diamante, num_threads)\n"
      ]
    },
    {
      "cell_type": "code",
      "execution_count": null,
      "metadata": {
        "id": "yJFzY1ZOtWOy",
        "colab": {
          "base_uri": "https://localhost:8080/"
        },
        "outputId": "51e6a472-aa93-40de-a568-4e150d9b3298"
      },
      "outputs": [
        {
          "output_type": "stream",
          "name": "stdout",
          "text": [
            "0.0\n"
          ]
        }
      ],
      "source": [
        "u1 = np.asarray(u1[iteracoes-1])\n",
        "u2 = np.asarray(u2[iteracoes-1])\n",
        "matrix_dif = u1 - u2\n",
        "\n",
        "print(np.linalg.norm(matrix_dif, ord='fro')) # norma de Frobenius de: (matriz concorrente de 8 threads - matriz sequencial)"
      ]
    },
    {
      "cell_type": "markdown",
      "source": [
        "Iterações = 1000\n",
        "\n",
        "Linhas = 100\n",
        "\n",
        "Colunas = 100"
      ],
      "metadata": {
        "id": "Gwd_QzQoZcvz"
      }
    },
    {
      "cell_type": "code",
      "source": [
        "iteracoes = 1000\n",
        "linhas = 100\n",
        "colunas = 100\n",
        "all_threads = [1, 2, 4, 8]\n",
        "\n",
        "print(\"SEQUENCIAL\\n\")\n",
        "u1 = generate_matrix_seq(iteracoes, linhas, colunas, diamante)\n",
        "\n",
        "for num_threads in all_threads:\n",
        "    print(f\"\\nCONCORRENTE ({num_threads} threads)\\n\")\n",
        "    u2 = generate_matrix_conc(iteracoes, linhas, colunas, diamante, num_threads)\n"
      ],
      "metadata": {
        "colab": {
          "base_uri": "https://localhost:8080/"
        },
        "id": "CUPEs_VXYtvk",
        "outputId": "42c89779-6b5b-4bc1-a844-d01845464064"
      },
      "execution_count": null,
      "outputs": [
        {
          "output_type": "stream",
          "name": "stdout",
          "text": [
            "SEQUENCIAL\n",
            "\n",
            "Execution: 1, Total time: 34.1415 seconds\n",
            "Execution: 2, Total time: 33.6960 seconds\n",
            "Execution: 3, Total time: 34.5349 seconds\n",
            "Execution: 4, Total time: 34.5490 seconds\n",
            "Execution: 5, Total time: 33.5109 seconds\n",
            "Execution: 6, Total time: 34.7699 seconds\n",
            "Execution: 7, Total time: 34.6663 seconds\n",
            "Execution: 8, Total time: 34.8723 seconds\n",
            "Execution: 9, Total time: 33.5987 seconds\n",
            "Execution: 10, Total time: 34.8306 seconds\n",
            "\n",
            "Average execution time: 34.3170 seconds\n",
            "\n",
            "CONCORRENTE (1 threads)\n",
            "\n",
            "Execution: 1, Total time: 37.4190 seconds\n",
            "Execution: 2, Total time: 37.4164 seconds\n",
            "Execution: 3, Total time: 37.8513 seconds\n",
            "Execution: 4, Total time: 37.9432 seconds\n",
            "Execution: 5, Total time: 37.6703 seconds\n",
            "Execution: 6, Total time: 37.7909 seconds\n",
            "Execution: 7, Total time: 37.6391 seconds\n",
            "Execution: 8, Total time: 37.7587 seconds\n",
            "Execution: 9, Total time: 37.7016 seconds\n",
            "Execution: 10, Total time: 37.6120 seconds\n",
            "\n",
            "Average execution time: 37.6803 seconds\n",
            "\n",
            "CONCORRENTE (2 threads)\n",
            "\n",
            "Execution: 1, Total time: 38.3147 seconds\n",
            "Execution: 2, Total time: 38.3125 seconds\n",
            "Execution: 3, Total time: 38.1757 seconds\n",
            "Execution: 4, Total time: 38.1700 seconds\n",
            "Execution: 5, Total time: 38.0740 seconds\n",
            "Execution: 6, Total time: 38.3897 seconds\n",
            "Execution: 7, Total time: 38.4037 seconds\n",
            "Execution: 8, Total time: 38.3102 seconds\n",
            "Execution: 9, Total time: 38.3591 seconds\n",
            "Execution: 10, Total time: 38.1681 seconds\n",
            "\n",
            "Average execution time: 38.2678 seconds\n",
            "\n",
            "CONCORRENTE (4 threads)\n",
            "\n",
            "Execution: 1, Total time: 38.4791 seconds\n",
            "Execution: 2, Total time: 38.2398 seconds\n",
            "Execution: 3, Total time: 38.3036 seconds\n",
            "Execution: 4, Total time: 38.2568 seconds\n",
            "Execution: 5, Total time: 38.3335 seconds\n",
            "Execution: 6, Total time: 38.2177 seconds\n",
            "Execution: 7, Total time: 38.3752 seconds\n",
            "Execution: 8, Total time: 38.2067 seconds\n",
            "Execution: 9, Total time: 38.3478 seconds\n",
            "Execution: 10, Total time: 38.2788 seconds\n",
            "\n",
            "Average execution time: 38.3039 seconds\n",
            "\n",
            "CONCORRENTE (8 threads)\n",
            "\n",
            "Execution: 1, Total time: 38.7779 seconds\n",
            "Execution: 2, Total time: 38.4903 seconds\n",
            "Execution: 3, Total time: 38.8030 seconds\n",
            "Execution: 4, Total time: 39.1168 seconds\n",
            "Execution: 5, Total time: 39.2413 seconds\n",
            "Execution: 6, Total time: 38.7420 seconds\n",
            "Execution: 7, Total time: 38.8939 seconds\n",
            "Execution: 8, Total time: 38.7420 seconds\n",
            "Execution: 9, Total time: 38.8520 seconds\n",
            "Execution: 10, Total time: 38.6543 seconds\n",
            "\n",
            "Average execution time: 38.8313 seconds\n"
          ]
        }
      ]
    },
    {
      "cell_type": "code",
      "source": [
        "u1 = np.asarray(u1[iteracoes-1])\n",
        "u2 = np.asarray(u2[iteracoes-1])\n",
        "matrix_dif = u1 - u2\n",
        "\n",
        "print(np.linalg.norm(matrix_dif, ord='fro')) # norma de Frobenius de: (matriz concorrente de 8 threads - matriz sequencial)"
      ],
      "metadata": {
        "colab": {
          "base_uri": "https://localhost:8080/"
        },
        "id": "UdZF1ywqYtrl",
        "outputId": "c607f9e1-aa93-4800-dc89-3fe857057ae5"
      },
      "execution_count": null,
      "outputs": [
        {
          "output_type": "stream",
          "name": "stdout",
          "text": [
            "0.0\n"
          ]
        }
      ]
    },
    {
      "cell_type": "markdown",
      "source": [
        "Iterações = 2000\n",
        "\n",
        "Linhas = 200\n",
        "\n",
        "Colunas = 200"
      ],
      "metadata": {
        "id": "npq557-yZd_K"
      }
    },
    {
      "cell_type": "code",
      "source": [
        "iteracoes = 2000\n",
        "linhas = 200\n",
        "colunas = 200\n",
        "all_threads = [1, 2, 4, 8]\n",
        "\n",
        "print(\"SEQUENCIAL\\n\")\n",
        "u1 = generate_matrix_seq(iteracoes, linhas, colunas, diamante) # essa será a matriz que será escrita no arquivo 'python_sequencial.txt'\n",
        "\n",
        "for num_threads in all_threads:\n",
        "    print(f\"\\nCONCORRENTE ({num_threads} threads)\\n\")\n",
        "    u2 = generate_matrix_conc(iteracoes, linhas, colunas, diamante, num_threads) # a matriz que será escrita no arquivo 'python_concorrente.txt' é aquela computada usando 8 threads\n"
      ],
      "metadata": {
        "colab": {
          "base_uri": "https://localhost:8080/"
        },
        "id": "UrV9ejnoYthX",
        "outputId": "c64e32b8-f6d0-4436-9349-f873bac9ef1e"
      },
      "execution_count": null,
      "outputs": [
        {
          "output_type": "stream",
          "name": "stdout",
          "text": [
            "SEQUENCIAL\n",
            "\n",
            "Execution: 1, Total time: 279.2122 seconds\n",
            "Execution: 2, Total time: 280.0156 seconds\n",
            "Execution: 3, Total time: 278.8684 seconds\n",
            "Execution: 4, Total time: 278.8308 seconds\n",
            "Execution: 5, Total time: 278.6448 seconds\n",
            "Execution: 6, Total time: 279.9469 seconds\n",
            "Execution: 7, Total time: 279.2529 seconds\n",
            "Execution: 8, Total time: 278.9805 seconds\n",
            "Execution: 9, Total time: 278.5006 seconds\n",
            "Execution: 10, Total time: 278.8510 seconds\n",
            "\n",
            "Average execution time: 279.1104 seconds\n",
            "\n",
            "CONCORRENTE (1 threads)\n",
            "\n",
            "Execution: 1, Total time: 305.7218 seconds\n",
            "Execution: 2, Total time: 307.2225 seconds\n",
            "Execution: 3, Total time: 307.8320 seconds\n",
            "Execution: 4, Total time: 307.8459 seconds\n",
            "Execution: 5, Total time: 308.6108 seconds\n",
            "Execution: 6, Total time: 307.8079 seconds\n",
            "Execution: 7, Total time: 311.2968 seconds\n",
            "Execution: 8, Total time: 309.5804 seconds\n",
            "Execution: 9, Total time: 307.8740 seconds\n",
            "Execution: 10, Total time: 309.3174 seconds\n",
            "\n",
            "Average execution time: 308.3110 seconds\n",
            "\n",
            "CONCORRENTE (2 threads)\n",
            "\n",
            "Execution: 1, Total time: 313.3407 seconds\n",
            "Execution: 2, Total time: 312.3998 seconds\n",
            "Execution: 3, Total time: 312.5026 seconds\n",
            "Execution: 4, Total time: 311.3595 seconds\n",
            "Execution: 5, Total time: 312.7596 seconds\n",
            "Execution: 6, Total time: 314.0598 seconds\n",
            "Execution: 7, Total time: 314.4880 seconds\n",
            "Execution: 8, Total time: 313.4525 seconds\n",
            "Execution: 9, Total time: 312.8034 seconds\n",
            "Execution: 10, Total time: 313.2420 seconds\n",
            "\n",
            "Average execution time: 313.0408 seconds\n",
            "\n",
            "CONCORRENTE (4 threads)\n",
            "\n",
            "Execution: 1, Total time: 312.4994 seconds\n",
            "Execution: 2, Total time: 313.9546 seconds\n",
            "Execution: 3, Total time: 313.4985 seconds\n",
            "Execution: 4, Total time: 313.5197 seconds\n",
            "Execution: 5, Total time: 314.0172 seconds\n",
            "Execution: 6, Total time: 312.5980 seconds\n",
            "Execution: 7, Total time: 313.2357 seconds\n",
            "Execution: 8, Total time: 311.7052 seconds\n",
            "Execution: 9, Total time: 311.8780 seconds\n",
            "Execution: 10, Total time: 313.5498 seconds\n",
            "\n",
            "Average execution time: 313.0456 seconds\n",
            "\n",
            "CONCORRENTE (8 threads)\n",
            "\n",
            "Execution: 1, Total time: 314.4592 seconds\n",
            "Execution: 2, Total time: 314.5007 seconds\n",
            "Execution: 3, Total time: 316.1209 seconds\n",
            "Execution: 4, Total time: 315.5436 seconds\n",
            "Execution: 5, Total time: 314.5387 seconds\n",
            "Execution: 6, Total time: 315.3824 seconds\n",
            "Execution: 7, Total time: 314.5668 seconds\n",
            "Execution: 8, Total time: 315.2997 seconds\n",
            "Execution: 9, Total time: 315.8150 seconds\n",
            "Execution: 10, Total time: 315.8218 seconds\n",
            "\n",
            "Average execution time: 315.2049 seconds\n"
          ]
        }
      ]
    },
    {
      "cell_type": "code",
      "source": [
        "u1 = np.asarray(u1[iteracoes-1])\n",
        "u2 = np.asarray(u2[iteracoes-1])\n",
        "matrix_dif = u1 - u2\n",
        "\n",
        "print(np.linalg.norm(matrix_dif, ord='fro')) # norma de Frobenius de: (matriz concorrente de 8 threads - matriz sequencial)"
      ],
      "metadata": {
        "colab": {
          "base_uri": "https://localhost:8080/"
        },
        "id": "jLKUe22nYtZG",
        "outputId": "69864485-9960-4893-f6a1-5ee2150878dc"
      },
      "execution_count": null,
      "outputs": [
        {
          "output_type": "stream",
          "name": "stdout",
          "text": [
            "0.0\n"
          ]
        }
      ]
    },
    {
      "cell_type": "markdown",
      "metadata": {
        "id": "8_ZkrkKBtdkr"
      },
      "source": [
        "#5º passo: Escrever as matrizes em arquivos .txt"
      ]
    },
    {
      "cell_type": "code",
      "execution_count": 50,
      "metadata": {
        "id": "OHgoCCHj5dGz"
      },
      "outputs": [],
      "source": [
        "#escrever em arquivo\n",
        "\n",
        "f_seq = open(\"python_sequencial.txt\", \"w\") # usar w para write normal ou wb para binario\n",
        "f_seq.write(str(iteracoes))\n",
        "f_seq.write(\" \")\n",
        "f_seq.write(str(linhas))\n",
        "f_seq.write(\" \")\n",
        "f_seq.write(str(colunas))\n",
        "f_seq.write(\"\\n\")\n",
        "for i in range(linhas):\n",
        "    for j in range(colunas):\n",
        "        f_seq.write(f\"{u1[i][j]:.6f} \")\n",
        "\n",
        "f_seq.close()\n",
        "\n",
        "\n",
        "f_conc = open(\"python_concorrente.txt\", \"w\") # usar w para write normal ou wb para binario\n",
        "f_conc.write(str(iteracoes))\n",
        "f_conc.write(\" \")\n",
        "f_conc.write(str(linhas))\n",
        "f_conc.write(\" \")\n",
        "f_conc.write(str(colunas))\n",
        "f_conc.write(\"\\n\")\n",
        "for i in range(linhas):\n",
        "    for j in range(colunas):\n",
        "        f_conc.write(f\"{u2[i][j]:.6f} \")\n",
        "\n",
        "f_conc.close()"
      ]
    }
  ],
  "metadata": {
    "colab": {
      "provenance": []
    },
    "kernelspec": {
      "display_name": "Python 3",
      "name": "python3"
    },
    "language_info": {
      "name": "python"
    }
  },
  "nbformat": 4,
  "nbformat_minor": 0
}
